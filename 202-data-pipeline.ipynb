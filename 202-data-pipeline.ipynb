{
 "cells": [
  {
   "cell_type": "markdown",
   "metadata": {},
   "source": [
    "# Data Processing Pipeline with sample code in GoLang\n",
    "\n",
    "In this notebook, we will show how to:\n",
    "\n",
    "* Interactively define a KubeFlow Pipeline using the Pipelines Python SDK\n",
    "* Submit and run the pipeline\n",
    "* Add a step in the pipeline\n"
   ]
  },
  {
   "cell_type": "markdown",
   "metadata": {},
   "source": [
    "## Environment Setup\n",
    "\n",
    "Before any experiment can be conducted. We need to setup and initialize an environment: ensure all Python modules has been setup and configured, as well as python modules. The pipeline is responsible for building and scheduling of custom steps implemented in Go.  You will find the source code for sample steps in workspace/components/golang/csv.go\n",
    "\n",
    "### Imports\n",
    "Setting up python modules"
   ]
  },
  {
   "cell_type": "code",
   "execution_count": null,
   "metadata": {},
   "outputs": [],
   "source": [
    "%reload_ext autoreload\n",
    "%autoreload 2\n",
    "\n",
    "%reload_ext nbextensions\n",
    "%load_nbvars\n",
    "\n",
    "import kfp.dsl as dsl\n",
    "import kfp.gcp as gcp\n",
    "import pandas as pd\n",
    "from ipython_secrets import get_secret\n",
    "from kfp.compiler import Compiler\n",
    "from kfp import components\n",
    "from os import environ\n",
    "import boto3, kfp\n",
    "\n",
    "from nbextensions.pv import use_pvc\n",
    "from nbextensions.kubernetes import use_pull_secret\n",
    "from nbextensions.aws import upload_to_s3\n",
    "\n",
    "import nbextensions.utils as utils\n",
    "from datetime import datetime\n",
    "from urllib.parse import urlparse\n",
    "\n",
    "import warnings\n",
    "warnings.filterwarnings('ignore')"
   ]
  },
  {
   "cell_type": "markdown",
   "metadata": {},
   "source": [
    "### Define global variables\n",
    "\n",
    "Initialize global namespace variables. It is a good practice to place all global namespace variables in one cell. So, the notebook could be configured all-at-once. \n",
    "\n",
    "To enhance readability we would advice to capitalize such variables."
   ]
  },
  {
   "cell_type": "code",
   "execution_count": null,
   "metadata": {
    "code_folding": [],
    "run_control": {
     "marked": true
    }
   },
   "outputs": [],
   "source": [
    "USER = environ.get('NB_USER', 'John Doe')\n",
    "TAG = 'latest'\n",
    "# TAG = 'v8'\n",
    "\n",
    "BUILD_CONTEXT = f\"{TAG}/buildcontext\"\n",
    "GOLANG_IMAGE = f\"{DOCKER_REGISTRY}/golang:{TAG}\"\n",
    "FLASK_APP_IMAGE = f\"{DOCKER_REGISTRY}/flask:{TAG}\"\n",
    "TRAINING_ROOT = f\"{MOUNT_PATH}/{TAG}/training\"\n",
    "\n",
    "DATASET_FILE = f\"{TRAINING_ROOT}/go-in.csv\"\n",
    "OUT_FILE = f\"{TRAINING_ROOT}/go-out.csv\"\n",
    "\n",
    "s3 = boto3.session.Session().client(\n",
    "    service_name='s3',\n",
    "    aws_access_key_id=get_secret('aws_access_key_id'),\n",
    "    aws_secret_access_key=get_secret('aws_secret_access_key'),\n",
    "    endpoint_url=BUCKET_ENDPOINT\n",
    ")\n",
    "\n",
    "client = kfp.Client()\n",
    "try:\n",
    "    exp = client.get_experiment(experiment_name=APPLICATION_NAME)\n",
    "except:\n",
    "    exp = client.create_experiment(APPLICATION_NAME)"
   ]
  },
  {
   "cell_type": "markdown",
   "metadata": {},
   "source": [
    "### Define build docker image pipeline\n",
    "\n",
    "Define build pipeline. Yes, we arguably using KFP to build images  that will be de-facto used by final pipeline.\n",
    "\n",
    "We use [Kaniko](https://github.com/GoogleContainerTools/kaniko) and Kubernetes to handle build operations. Build status can be tracked via KFP pipeline dashboard\n",
    "\n",
    "In fact build image job can be even combined with primary pipeline as physically it will be different Kubernetes pods. However for sake of general purpose efficiency we schedule build process via separate pipeline step"
   ]
  },
  {
   "cell_type": "code",
   "execution_count": null,
   "metadata": {},
   "outputs": [],
   "source": [
    "kaniko_op = components.load_component_from_file('components/kaniko/deploy.yaml')\n",
    "\n",
    "@dsl.pipeline(\n",
    "  name='Pipeline images',\n",
    "  description='Build images that will be used by the pipeline'\n",
    ")\n",
    "def build_image(\n",
    "        image, \n",
    "        build_context=None, \n",
    "        dockerfile: dsl.PipelineParam=dsl.PipelineParam(name='dockerfile', value='Dockerfile')):\n",
    "    kaniko_op(\n",
    "        image=image,\n",
    "        dockerfile=dockerfile,\n",
    "        build_context=build_context\n",
    "    ).apply(\n",
    "        # docker registry credentials \n",
    "        use_pull_secret(secret_name=DOCKER_REGISTRY_PULL_SECRET)\n",
    "    ).apply(\n",
    "        # s3 bucket volume clame has been injected here        \n",
    "        use_pvc(name=BUCKET_PVC, mount_to=MOUNT_PATH)\n",
    "    )\n",
    "        \n",
    "Compiler().compile(build_image, '.kaniko.tar.gz')"
   ]
  },
  {
   "cell_type": "markdown",
   "metadata": {},
   "source": [
    "Compiler transforms Python DSL into an [Argo Workflow](https://argoproj.github.io/docs/argo/readme.html). And stores generated artifacts in [`.kaniko.tar.gz`](.kaniko.tar.gz). So it could be executed multiple times. Perhaps with different parameters"
   ]
  },
  {
   "cell_type": "markdown",
   "metadata": {},
   "source": [
    "## Data Processing Pipeline\n",
    "Data processing pipeline will be executed outside of a Jupyter Notebook and utilize the maximum capacity of the current cluster. To achieve this we need to perform following actions:\n",
    "* Build a docker image for data processing steps\n",
    "* Define a data processing pipeline\n",
    "* Run the pipeline\n",
    "\n",
    "### Building a Docker image\n",
    "Once pipeline has been defined we can reuse it multiple times by supplying different input parameters.\n",
    "\n",
    "Next section will upload all files to s3, to share access with the pipeline. Files that should be ignored can be customized in [kanikoignore.txt](./kanikoignore.txt). To understand upload scenario you can review and modify: [aws.py](./extensions/kaniko/aws.py)"
   ]
  },
  {
   "cell_type": "code",
   "execution_count": null,
   "metadata": {},
   "outputs": [],
   "source": [
    "upload_to_s3(\n",
    "    destination=f\"s3://{BUCKET_NAME}/{BUILD_CONTEXT}\",\n",
    "    ignorefile='components/kaniko/ignorefile.txt',\n",
    "    workspace='.',\n",
    "    s3_client=s3\n",
    ")\n",
    "\n",
    "run = client.run_pipeline(\n",
    "    exp.id, f'Build image: golang:{TAG}', '.kaniko.tar.gz', \n",
    "    params={\n",
    "        'image': GOLANG_IMAGE,\n",
    "        'build-context': f\"{MOUNT_PATH}/{BUILD_CONTEXT}/components/golang\"\n",
    "    })"
   ]
  },
  {
   "cell_type": "markdown",
   "metadata": {},
   "source": [
    "Build process can be long a long term. Because often images that has been used for data science tasks are huge. In this case you might want to adjust `timeout` parameter"
   ]
  },
  {
   "cell_type": "code",
   "execution_count": null,
   "metadata": {},
   "outputs": [],
   "source": [
    "%%time\n",
    "# block until job completion\n",
    "print(f\"Waiting for run: {run.id}...\")\n",
    "result = client.wait_for_run_completion(run.id, timeout=720).run.status\n",
    "print(f\"Finished with: {result}\")"
   ]
  },
  {
   "cell_type": "markdown",
   "metadata": {},
   "source": [
    "### Define Pipeline\n",
    "We have extracted code for training pipeline into a [component](components/training). Python code that defines `training_op` as well as a `http_download_op` can be found [here](components/training/component.py)\n",
    "\n",
    "Below we will define a pipeline that will run the training pipeline as an experimnet. This pipeline will do the following. Every training operation (except download) will be encapsulated by the python script. You can change the scripts at your will however, you will need to rebuild a training image.\n",
    "\n",
    "* Download dataset from http \n",
    "* Split data into sample and test. It can also put a rownum limit into a dataset to increase feedback\n",
    "* Preprocess data for machine learning (clean, tokenize and transform text into vector)\n",
    "* Apply sequence to sequence training with Keras. By the completion trained model will be uplooaded into s3 bucket "
   ]
  },
  {
   "cell_type": "code",
   "execution_count": null,
   "metadata": {},
   "outputs": [],
   "source": [
    "from components.golang import (http_download_op, processing_op)\n",
    "\n",
    "@dsl.pipeline(\n",
    "  name='Processing',\n",
    "  description=\"\"\"\n",
    "  Download dataset, \n",
    "  Run data processing steps using Go \n",
    "  \"\"\"\n",
    ")\n",
    "def processing_pipeline(\n",
    "    import_from: dsl.PipelineParam, \n",
    "    dataset_file: dsl.PipelineParam,\n",
    "    dataset_md5: dsl.PipelineParam,\n",
    "    out_file: dsl.PipelineParam,\n",
    "):  \n",
    "    download = http_download_op(\n",
    "        url=import_from,\n",
    "        md5sum=dataset_md5,\n",
    "        download_to=dataset_file\n",
    "    ).apply(\n",
    "        use_pvc(name=BUCKET_PVC, mount_to=MOUNT_PATH)\n",
    "    )\n",
    "    \n",
    "    # Run a single Go processing step.\n",
    "    process = processing_op(\n",
    "        script='gocsv',\n",
    "        arguments=[\n",
    "            dataset_file,\n",
    "            out_file,\n",
    "        ]\n",
    "    ).apply(\n",
    "        use_pvc(name=BUCKET_PVC, mount_to=MOUNT_PATH)\n",
    "    ).after(download)\n",
    "    \n",
    "    # Run multiple Go processing steps in parallel\n",
    "    a = ['f1', 'f2', 'f3', 'f4', 'f5', 'f6', 'f7', 'f8', 'f9', 'f10', 'f11', 'f12', 'f13', 'f14', 'f15', 'f16']\n",
    "    for i in a:\n",
    "        processed_file = f\"{TRAINING_ROOT}/go-out{i}.csv\"\n",
    "        process = processing_op(\n",
    "            script='gocsv',\n",
    "            arguments=[\n",
    "                dataset_file,\n",
    "                processed_file,\n",
    "            ]\n",
    "        ).apply(\n",
    "            use_pvc(name=BUCKET_PVC, mount_to=MOUNT_PATH)\n",
    "        ).after(download)\n",
    "\n",
    "    \n",
    "#     training.set_memory_request('2G')\n",
    "#    process.set_cpu_request('1')\n",
    "\n",
    "Compiler().compile(processing_pipeline, '.processing.tar.gz')"
   ]
  },
  {
   "cell_type": "markdown",
   "metadata": {},
   "source": [
    "### Run the pipeline\n",
    "\n",
    "Code below will run a pipeline and inject some pipeline parameters. Here we provide two versions of data sets\n",
    "* `SAMPLE_DATA_SET` - Data set that has just over 2 megabytes. Not enough for sufficient training. However ideal for development, because of faster feedback.\n",
    "* `FULL_DATA_SET` - Precreated data set with all github issues. 3 gigabytes. Good enough for sufficient model\n",
    "\n",
    "Depending on your needs you can choose one or another data set and pass it as a pipeline parameter `data-set`"
   ]
  },
  {
   "cell_type": "code",
   "execution_count": null,
   "metadata": {},
   "outputs": [],
   "source": [
    "# github issues small: 2Mi data set (best for dev/test)\n",
    "SAMPLE_DATASET = 'https://s3.us-east-2.amazonaws.com/asi-kubeflow-models/gh-issues/go-in.csv'\n",
    "SAMPLE_DATASET_MD5 = '916af946f2fe1d1779b26205d4d8378f'\n",
    "\n",
    "run = client.run_pipeline(exp.id, f'Data processing {TAG}: {datetime.now():%m%d-%H%M}', '.processing.tar.gz',\n",
    "                          params={\n",
    "                              'import-from': SAMPLE_DATASET,\n",
    "                              'dataset-md5': SAMPLE_DATASET_MD5,\n",
    "                              'dataset-file': DATASET_FILE,\n",
    "                              'out-file': OUT_FILE,\n",
    "                          })"
   ]
  },
  {
   "cell_type": "code",
   "execution_count": null,
   "metadata": {},
   "outputs": [],
   "source": [
    "%%time\n",
    "# block until job completion\n",
    "print(f\"Waiting for run: {run.id}...\")\n",
    "result = client.wait_for_run_completion(run.id, timeout=720).run.status\n",
    "print(f\"Finished with: {result}\")"
   ]
  },
  {
   "cell_type": "code",
   "execution_count": null,
   "metadata": {},
   "outputs": [],
   "source": []
  }
 ],
 "metadata": {
  "kernelspec": {
   "display_name": "Python 3",
   "language": "python",
   "name": "python3"
  },
  "language_info": {
   "codemirror_mode": {
    "name": "ipython",
    "version": 3
   },
   "file_extension": ".py",
   "mimetype": "text/x-python",
   "name": "python",
   "nbconvert_exporter": "python",
   "pygments_lexer": "ipython3",
   "version": "3.6.7"
  },
  "toc": {
   "base_numbering": 1,
   "nav_menu": {},
   "number_sections": true,
   "sideBar": true,
   "skip_h1_title": true,
   "title_cell": "Table of Contents",
   "title_sidebar": "Contents",
   "toc_cell": false,
   "toc_position": {
    "height": "calc(100% - 180px)",
    "left": "10px",
    "top": "150px",
    "width": "336px"
   },
   "toc_section_display": true,
   "toc_window_display": true
  },
  "varInspector": {
   "cols": {
    "lenName": 16,
    "lenType": 16,
    "lenVar": 40
   },
   "kernels_config": {
    "python": {
     "delete_cmd_postfix": "",
     "delete_cmd_prefix": "del ",
     "library": "var_list.py",
     "varRefreshCmd": "print(var_dic_list())"
    },
    "r": {
     "delete_cmd_postfix": ") ",
     "delete_cmd_prefix": "rm(",
     "library": "var_list.r",
     "varRefreshCmd": "cat(var_dic_list()) "
    }
   },
   "oldHeight": 201,
   "position": {
    "height": "223px",
    "left": "1208px",
    "right": "20px",
    "top": "263px",
    "width": "400px"
   },
   "types_to_exclude": [
    "module",
    "function",
    "builtin_function_or_method",
    "instance",
    "_Feature"
   ],
   "varInspector_section_display": "block",
   "window_display": true
  }
 },
 "nbformat": 4,
 "nbformat_minor": 2
}
